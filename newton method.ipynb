{
 "cells": [
  {
   "cell_type": "markdown",
   "metadata": {},
   "source": [
    "## $Newton's$  $method$ for approximating real zeros\n"
   ]
  },
  {
   "cell_type": "markdown",
   "metadata": {},
   "source": [
    "I was studying calculus when I realized that implementing this algorithm in Python could be a good challenge "
   ]
  },
  {
   "cell_type": "markdown",
   "metadata": {},
   "source": [
    "------------\n",
    "* Iterative formula:\n",
    "\n",
    "$x_{n+1}=x_n-\\frac{f(x_n)}{f'(x_n)}$\n",
    "\n",
    "* Convergence condition\n",
    "\n",
    "$\\left|\\frac{f(x)f''(x)}{[f'(x)]^2}\\right|<1$\n",
    "\n",
    "* Precision:\n",
    "\n",
    "$|x_n-x_{n+1}|$\n",
    "\n",
    "--------------"
   ]
  },
  {
   "cell_type": "markdown",
   "metadata": {},
   "source": [
    "If the method is not going to fail, our Python function will take a function, an initial estimate, and an error value (difference between successive approximations). It will return an approximate root for that function with an specified level of precision"
   ]
  },
  {
   "cell_type": "markdown",
   "metadata": {},
   "source": [
    "- `if` $\\left|\\frac{f(x)f''(x)}{[f'(x)]^2}\\right|<1$ `:`\n",
    "\n",
    "    - estimate 'zero'=$x_n$\n",
    "\n",
    "    - $x_{n+1}=x_n-\\frac{f(x_n)}{f'(x_n)}$\n",
    "\n",
    "    - `while` $|x_n-x_{n+1}|$ > error `:`\n",
    "\n",
    "        $x_n=x_{n+1}$\n",
    "\n",
    "        $x_{n+1}=x_n-\\frac{f(x_n)}{f'(x_n)}$    \n",
    "\n",
    "    - `return` $x_{n+1}$\n",
    "    \n",
    "    \n",
    "- `else`: The method fails"
   ]
  },
  {
   "cell_type": "code",
   "execution_count": 1,
   "metadata": {},
   "outputs": [],
   "source": [
    "# Secondary functions\n",
    "\n",
    "def iterative_formula(f,x_n):\n",
    "    \n",
    "    from scipy.misc import derivative\n",
    "    \n",
    "    x_n1=x_n-(f(x_n)/derivative(f,x_n))\n",
    "\n",
    "    return x_n1\n",
    "        \n",
    "\n",
    "#-----------------------------------------\n",
    "\n",
    "def converges(f,x_n):\n",
    "    \n",
    "    from scipy.misc import derivative\n",
    "    \n",
    "    numerator=f(x_n)*derivative(f,x_n,n=2) # parameter 'n' for order of derivative\n",
    "    denominator=derivative(f,x_n)**2\n",
    "    \n",
    "    return abs(numerator/denominator)<1\n",
    "\n",
    "#-----------------------------------------\n",
    "\n",
    "def precise_enough(x_n,x_n1,error):\n",
    "      \n",
    "    return abs(x_n-x_n1)<=error\n"
   ]
  },
  {
   "cell_type": "code",
   "execution_count": 2,
   "metadata": {},
   "outputs": [],
   "source": [
    "def newton_method(f,x_n,error=0.01):\n",
    "    \"\"\"root-finding algorithm which produces successively better\n",
    "     approximations to the roots (or zeroes) of a real-valued function.  \n",
    "    \n",
    "    Parameters\n",
    "    -------------\n",
    "    f: function \n",
    "        it's the mathematical function\n",
    "    x_n: float or int\n",
    "        the initial estimate of the zero of the function\n",
    "    error: float, optional\n",
    "        difference between successive estimates. The smaller, the more iterations will be neccessary\n",
    "        default=0.01\n",
    "        \n",
    "    Returns\n",
    "    ------------\n",
    "    tuple\n",
    "        Consists of the first estimate of the zero obtained with the level of precision desired \n",
    "        and the number of iterations that were needed to reach that value\"\"\"\n",
    "    \n",
    "    if converges(f,x_n):\n",
    "        \n",
    "        x_n1=iterative_formula(f,x_n)\n",
    "\n",
    "        iters=0\n",
    "        while not precise_enough(x_n,x_n1,error):\n",
    "            x_n=x_n1\n",
    "            x_n1=iterative_formula(f,x_n)\n",
    "            iters+=1\n",
    "\n",
    "        return x_n1,iters\n",
    "    else:\n",
    "        print(\"Newton's method fails to converge\")\n",
    "        "
   ]
  },
  {
   "cell_type": "markdown",
   "metadata": {},
   "source": [
    "## Tests"
   ]
  },
  {
   "cell_type": "markdown",
   "metadata": {},
   "source": [
    "Testing the `newton_method` with an easy function $f(x)=x^2-2$\n",
    "\n",
    "We know that one zero of the function is going to be $x=\\pm\\sqrt{2}\\approx{\\pm1.4142}$\n",
    "\n",
    "-----------"
   ]
  },
  {
   "cell_type": "code",
   "execution_count": 3,
   "metadata": {},
   "outputs": [
    {
     "data": {
      "text/plain": [
       "(1.4142156862745099, 2)"
      ]
     },
     "execution_count": 3,
     "metadata": {},
     "output_type": "execute_result"
    }
   ],
   "source": [
    "func=lambda x: x**2 -2\n",
    "\n",
    "newton_method(func,1)"
   ]
  },
  {
   "cell_type": "code",
   "execution_count": 4,
   "metadata": {},
   "outputs": [
    {
     "data": {
      "text/plain": [
       "(-1.4142156862745099, 2)"
      ]
     },
     "execution_count": 4,
     "metadata": {},
     "output_type": "execute_result"
    }
   ],
   "source": [
    "newton_method(func,-1)"
   ]
  },
  {
   "cell_type": "markdown",
   "metadata": {},
   "source": [
    "Now let's try with another tests \n",
    "(the results are compared with wolframalpha output for the operation 'solve (function))'\n",
    "\n",
    "-----------"
   ]
  },
  {
   "cell_type": "markdown",
   "metadata": {},
   "source": [
    "1. $f(x)=x^3+4$\n",
    "\n",
    "real roots: $x\\approx{-1.5874}$"
   ]
  },
  {
   "cell_type": "code",
   "execution_count": 5,
   "metadata": {},
   "outputs": [
    {
     "name": "stdout",
     "output_type": "stream",
     "text": [
      "Newton's method fails to converge\n"
     ]
    }
   ],
   "source": [
    "func=lambda x: x**3 + 4\n",
    "\n",
    "newton_method(func,1)\n",
    "\n",
    "#solve(x**3 +4,dict=True)"
   ]
  },
  {
   "cell_type": "markdown",
   "metadata": {},
   "source": [
    "2. $f(x)=x^3+x-1$\n",
    "\n",
    "real roots: $x\\approx{0.68233}$"
   ]
  },
  {
   "cell_type": "code",
   "execution_count": 6,
   "metadata": {},
   "outputs": [
    {
     "data": {
      "text/plain": [
       "(0.6857676808261545, 3)"
      ]
     },
     "execution_count": 6,
     "metadata": {},
     "output_type": "execute_result"
    }
   ],
   "source": [
    "func=lambda x: x**3 + x - 1\n",
    "\n",
    "newton_method(func,1)"
   ]
  },
  {
   "cell_type": "markdown",
   "metadata": {},
   "source": [
    "3. $f(x)=-x+sin(x)$\n",
    "\n",
    "real roots: $x=0$"
   ]
  },
  {
   "cell_type": "code",
   "execution_count": 7,
   "metadata": {},
   "outputs": [
    {
     "data": {
      "text/plain": [
       "(0.0455980298468594, 231)"
      ]
     },
     "execution_count": 7,
     "metadata": {},
     "output_type": "execute_result"
    }
   ],
   "source": [
    "from math import sin\n",
    "\n",
    "func=lambda x: -x + sin(x)\n",
    "\n",
    "newton_method(func,1,0.0001)"
   ]
  },
  {
   "cell_type": "markdown",
   "metadata": {},
   "source": [
    "4. $f(x)=x^3-3.9x^2+4.79x-1.881$\n",
    "\n",
    "real roots: $x\\approx2.0653$"
   ]
  },
  {
   "cell_type": "code",
   "execution_count": 8,
   "metadata": {},
   "outputs": [
    {
     "data": {
      "text/plain": [
       "(0.9004808322588314, 32)"
      ]
     },
     "metadata": {},
     "output_type": "display_data"
    }
   ],
   "source": [
    "func=lambda x: x**3 - 3.9*(x**2) + 4.79*x - 1.881\n",
    "\n",
    "display(newton_method(func,1,error=0.0001))"
   ]
  },
  {
   "cell_type": "markdown",
   "metadata": {},
   "source": [
    "5. $f(x)=5\\sqrt{x-1}-2x$\n",
    "\n",
    "real roots: $x=5$ ; $x=1.25$"
   ]
  },
  {
   "cell_type": "code",
   "execution_count": 9,
   "metadata": {},
   "outputs": [
    {
     "data": {
      "text/plain": [
       "(4.999966152476043, 2)"
      ]
     },
     "execution_count": 9,
     "metadata": {},
     "output_type": "execute_result"
    }
   ],
   "source": [
    "from numpy import sqrt\n",
    "\n",
    "func=lambda x: 5*sqrt(x-1) - 2*x\n",
    "\n",
    "newton_method(func,4)\n",
    "\n",
    "#solve(5*(x-1)**(1/2) - 2*x,dict=True)"
   ]
  },
  {
   "cell_type": "code",
   "execution_count": 10,
   "metadata": {},
   "outputs": [
    {
     "name": "stdout",
     "output_type": "stream",
     "text": [
      "Newton's method fails to converge\n"
     ]
    },
    {
     "name": "stderr",
     "output_type": "stream",
     "text": [
      "C:\\Users\\Diego\\anaconda3\\lib\\site-packages\\ipykernel_launcher.py:3: RuntimeWarning: invalid value encountered in sqrt\n",
      "  This is separate from the ipykernel package so we can avoid doing imports until\n"
     ]
    }
   ],
   "source": [
    "newton_method(func,1.2)"
   ]
  },
  {
   "cell_type": "markdown",
   "metadata": {},
   "source": [
    "6. $f(x)=x^\\frac{1}{3}$\n",
    "\n",
    "real roots: $x=0$"
   ]
  },
  {
   "cell_type": "code",
   "execution_count": 11,
   "metadata": {},
   "outputs": [
    {
     "name": "stdout",
     "output_type": "stream",
     "text": [
      "Newton's method fails to converge\n"
     ]
    }
   ],
   "source": [
    "func=lambda x: x**(1/3)\n",
    "\n",
    "newton_method(func,1)"
   ]
  },
  {
   "cell_type": "markdown",
   "metadata": {},
   "source": [
    "7. $f(x)=2x+1-\\sqrt{x+4}$\n",
    "\n",
    "real roots: $x\\approx0.56873$"
   ]
  },
  {
   "cell_type": "code",
   "execution_count": 12,
   "metadata": {},
   "outputs": [
    {
     "data": {
      "text/plain": [
       "(0.5687285423006293, 1)"
      ]
     },
     "execution_count": 12,
     "metadata": {},
     "output_type": "execute_result"
    }
   ],
   "source": [
    "func=lambda x: 2*x + 1 - sqrt(x+4)\n",
    "\n",
    "newton_method(func,1,0.001)"
   ]
  },
  {
   "cell_type": "markdown",
   "metadata": {},
   "source": [
    "8. $f(x)=x-tan(x)$\n",
    "\n",
    "real roots: $x\\approx3875.15$ ; $x\\approx-1346.17$ wtf ; $x=0$"
   ]
  },
  {
   "cell_type": "code",
   "execution_count": 13,
   "metadata": {},
   "outputs": [
    {
     "data": {
      "text/plain": [
       "(0.055493341500978045, 301)"
      ]
     },
     "execution_count": 13,
     "metadata": {},
     "output_type": "execute_result"
    }
   ],
   "source": [
    "from math import tan\n",
    "func=lambda x: x - tan(x)\n",
    "\n",
    "newton_method(func,1,0.0001)"
   ]
  },
  {
   "cell_type": "markdown",
   "metadata": {},
   "source": [
    "8. $f(x)=x^4-x-3$\n",
    "\n",
    "real roots: $x\\approx1.4526$ ; $x\\approx-1.1640$"
   ]
  },
  {
   "cell_type": "code",
   "execution_count": 14,
   "metadata": {},
   "outputs": [
    {
     "data": {
      "text/plain": [
       "(1.4523173294832568, 4)"
      ]
     },
     "execution_count": 14,
     "metadata": {},
     "output_type": "execute_result"
    }
   ],
   "source": [
    "f=lambda x: (x**4)-x-3\n",
    "newton_method(f,1,0.001)"
   ]
  },
  {
   "cell_type": "code",
   "execution_count": 15,
   "metadata": {},
   "outputs": [
    {
     "data": {
      "text/plain": [
       "(-1.1635993687307822, 5)"
      ]
     },
     "execution_count": 15,
     "metadata": {},
     "output_type": "execute_result"
    }
   ],
   "source": [
    "newton_method(f,-1,0.001)"
   ]
  },
  {
   "cell_type": "markdown",
   "metadata": {},
   "source": [
    "## Conclusions"
   ]
  },
  {
   "cell_type": "markdown",
   "metadata": {},
   "source": [
    "The algorithm seems to work fine but it leads to wrong answer some times, for example with $f(x)=x^3+4$. There are also some problems with square roots like with the test of $f(x)=5\\sqrt{x-1}-2x$. "
   ]
  },
  {
   "cell_type": "code",
   "execution_count": null,
   "metadata": {},
   "outputs": [],
   "source": []
  }
 ],
 "metadata": {
  "kernelspec": {
   "display_name": "Python 3",
   "language": "python",
   "name": "python3"
  },
  "language_info": {
   "codemirror_mode": {
    "name": "ipython",
    "version": 3
   },
   "file_extension": ".py",
   "mimetype": "text/x-python",
   "name": "python",
   "nbconvert_exporter": "python",
   "pygments_lexer": "ipython3",
   "version": "3.7.7"
  }
 },
 "nbformat": 4,
 "nbformat_minor": 4
}
